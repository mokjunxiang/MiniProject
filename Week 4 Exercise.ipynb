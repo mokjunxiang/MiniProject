{
 "cells": [
  {
   "cell_type": "markdown",
   "id": "c113d99d",
   "metadata": {},
   "source": [
    "Exercise 1"
   ]
  },
  {
   "cell_type": "code",
   "execution_count": null,
   "id": "8f4176e9",
   "metadata": {},
   "outputs": [],
   "source": [
    "import sys\n",
    "# Python 3.7 is required\n",
    "assert sys.version_info >= (3, 7)\n",
    "\n",
    "import cv2 as cv\n",
    "import numpy as np\n",
    "from util_func import show_img\n",
    "\n",
    "np.random.seed(99)\n",
    "\n",
    "# Make sure that optimization is enabled\n",
    "if not cv.useOptimized():\n",
    "    cv.setUseOptimized(True)\n",
    "    \n",
    "cv.useOptimized()"
   ]
  },
  {
   "cell_type": "code",
   "execution_count": null,
   "id": "83362831",
   "metadata": {},
   "outputs": [],
   "source": [
    "from PIL import Image\n",
    "w, h = 200, 150  \n",
    "total_pixels = w *\n",
    "from PIL import Image\n",
    "import random\n",
    "def create_random_color_image(w, h):\n",
    "    img = Image.new(\"RGB\", (w, h))\n",
    "    pixels = img.load()\n",
    "    for x in range(w):\n",
    "        for y in range(h):\n",
    "            r = random.randint(0, 255)\n",
    "            g = random.randint(0, 255)\n",
    "            b = random.randint(0, 255)\n",
    "            pixels[x, y] = (r, g, b)\n",
    "    return img\n",
    "\n",
    "def create_random_grayscale_image(w, h):\n",
    "    image = Image.new(\"L\", (w, h))\n",
    "    pixels = image.load()\n",
    "    for x in range(w):\n",
    "        for y in range(h):\n",
    "            pixel_value = random.randint(0, 255)\n",
    "            pixels[x, y] = pixel_value\n",
    "    return image\n",
    "\n",
    "\n",
    "w, h = 200, 150  \n",
    "total_pixels = w * h\n",
    "\n",
    "# Create a random noise color image\n",
    "color_image = create_random_color_image(w, h)\n",
    "color_image.save(\"random_color_image.png\")\n",
    "print(f\"Random color image created with dimensions: {w}x{h}\")\n",
    "\n",
    "# Create a random noise grayscale image\n",
    "grayscale_image = create_random_grayscale_image(w, h)\n",
    "grayscale_image.save(\"random_grayscale_image.png\")\n",
    "print(f\"Random grayscale image created with dimensions: {w}x{h}\")\n"
   ]
  },
  {
   "cell_type": "markdown",
   "id": "2017a2c0",
   "metadata": {},
   "source": [
    "Exercise 2"
   ]
  },
  {
   "cell_type": "code",
   "execution_count": null,
   "id": "25f8ca9a",
   "metadata": {},
   "outputs": [],
   "source": [
    "def crop_grid(img, num_horizontal_grid, num_vertical_grid, line_color):\n",
    "    width, height = img.size\n",
    "    patch_width = width // num_horizontal_grid\n",
    "    patch_height = height // num_vertical_grid\n",
    "    \n",
    "    output_img = img.copy();\n",
    "\n",
    "    for i in range(num_horizontal_grid):\n",
    "        for j in range(num_vertical_grid):\n",
    "            left = i * patch_width\n",
    "            top = j * patch_height\n",
    "            right = left + patch_width\n",
    "            bottom = top + patch_height\n",
    "            \n",
    "            patch = img.crop((left, top, right, bottom))\n",
    "\n",
    "            output_img.paste(patch, (left, top))\n",
    "\n",
    "            draw.line([(left, 0), (left, height)], fill=line_color)\n",
    "            draw.line([(0, top), (width, top)], fill=line_color)\n",
    "\n",
    "    return output_img\n",
    "\n",
    "source_image = cv.imread('images/dog.jfif')\n",
    "\n",
    "num_horizontal_grid = 5\n",
    "num_vertical_grid = 5\n",
    "line_color = (255, 0, 0) \n",
    "\n",
    "crop_image = crop_grid(source_image, num_horizontal_grid, num_vertical_grid, line_color)\n",
    "\n",
    "crop_image.save(\"crop_image.jpg\")"
   ]
  },
  {
   "cell_type": "markdown",
   "id": "0225d470",
   "metadata": {},
   "source": [
    "Exercise 3 "
   ]
  },
  {
   "cell_type": "code",
   "execution_count": null,
   "id": "e865f983",
   "metadata": {},
   "outputs": [],
   "source": [
    "img1 = cv.imread(\"images/lena.jpg\")\n",
    "img2 = cv.imread(\"images/coins.jfif\")\n",
    "\n",
    "new_shape = img1.shape[:2]\n",
    "img2 = cv.resize(img2, new_shape[::-1])\n",
    "\n",
    "dst1 = cv.addWeighted(img1, 0.5, img2, 0.25, 0)\n",
    "dst2 = cv.addWeighted(img1, 0.25, img2, 0.25, 0)\n",
    "\n",
    "cv.imshow('lena', img1)\n",
    "cv.imshow('reshaped coin', img2)\n",
    "cv.imshow('1stblending', dst1)\n",
    "cv.imshow('2ndblending', dst2)\n",
    "cv.waitKey(0)\n",
    "cv.destroyAllWindows()"
   ]
  },
  {
   "cell_type": "markdown",
   "id": "1a30c255",
   "metadata": {},
   "source": [
    "Exercise 4"
   ]
  },
  {
   "cell_type": "code",
   "execution_count": null,
   "id": "70906511",
   "metadata": {},
   "outputs": [],
   "source": [
    "img1 = cv.imread(\"images/travel_hd.jpg\")\n",
    "img2 = cv.imread(\"images/dog.jfif\")\n",
    "\n",
    "# Reshape img2\n",
    "new_shape = img1.shape[:2]\n",
    "img2 = cv.resize(img2, new_shape[10,10])\n",
    "\n",
    "dst = cv.addWeighted(img1, 0.75, img2, 0.25, 0)\n",
    "\n",
    "cv.imshow('lena', img1)\n",
    "cv.imshow('reshaped coin', img2)\n",
    "cv.imshow('blending', dst)\n",
    "cv.waitKey(0)\n",
    "cv.destroyAllWindows()"
   ]
  }
 ],
 "metadata": {
  "kernelspec": {
   "display_name": "Python 3 (ipykernel)",
   "language": "python",
   "name": "python3"
  },
  "language_info": {
   "codemirror_mode": {
    "name": "ipython",
    "version": 3
   },
   "file_extension": ".py",
   "mimetype": "text/x-python",
   "name": "python",
   "nbconvert_exporter": "python",
   "pygments_lexer": "ipython3",
   "version": "3.10.9"
  }
 },
 "nbformat": 4,
 "nbformat_minor": 5
}
