{
 "cells": [
  {
   "cell_type": "markdown",
   "id": "9987c3a1",
   "metadata": {},
   "source": [
    "Exercise 1"
   ]
  },
  {
   "cell_type": "code",
   "execution_count": 32,
   "id": "8acc7400",
   "metadata": {},
   "outputs": [],
   "source": [
    "def OddEven(x):\n",
    "    #This function is to distinguish odd and even number.\n",
    "    #x must be interger\n",
    "    if isinstance(x, int):\n",
    "        if x%2 == 0:\n",
    "            if x == 0:\n",
    "                statement = \" is neither even or odd\"\n",
    "            else:\n",
    "                statement = \" is even number\"\n",
    "        else:\n",
    "            statement = \" is odd number\"\n",
    "    else:\n",
    "        statement = \" is not an integer\"\n",
    "        \n",
    "    return print(f\"{x}\" + statement)"
   ]
  },
  {
   "cell_type": "code",
   "execution_count": 33,
   "id": "455b977e",
   "metadata": {},
   "outputs": [
    {
     "name": "stdout",
     "output_type": "stream",
     "text": [
      "9.7 is not an integer\n",
      "None\n",
      "0 is neither even or odd\n",
      "None\n",
      "8 is even number\n",
      "None\n",
      "5 is odd number\n",
      "None\n"
     ]
    }
   ],
   "source": [
    "print(OddEven(9.7))\n",
    "print(OddEven(0))\n",
    "print(OddEven(8))\n",
    "print(OddEven(5))"
   ]
  },
  {
   "cell_type": "markdown",
   "id": "6b3f571c",
   "metadata": {},
   "source": [
    "Exercise 2"
   ]
  },
  {
   "cell_type": "code",
   "execution_count": 34,
   "id": "96171972",
   "metadata": {},
   "outputs": [],
   "source": [
    "large_n = 1e5\n",
    "numpy_arr = np.arange(large_n)\n",
    "list_arr = list(range(int(large_n)))"
   ]
  },
  {
   "cell_type": "code",
   "execution_count": 35,
   "id": "c9c8354e",
   "metadata": {},
   "outputs": [
    {
     "name": "stdout",
     "output_type": "stream",
     "text": [
      "[0.0000e+00 1.0000e+00 2.0000e+00 ... 9.9992e+04 9.9993e+04 9.9994e+04]\n",
      "[0, 1, 2, 3, 4]\n"
     ]
    }
   ],
   "source": [
    "print(numpy_arr[:-5])\n",
    "print(list_arr[:5])"
   ]
  },
  {
   "cell_type": "code",
   "execution_count": 36,
   "id": "8a95a097",
   "metadata": {},
   "outputs": [
    {
     "name": "stdout",
     "output_type": "stream",
     "text": [
      "[99995. 99996. 99997. 99998. 99999.]\n",
      "[99995, 99996, 99997, 99998, 99999]\n"
     ]
    }
   ],
   "source": [
    "print(numpy_arr[-5:])\n",
    "print(list_arr[-5:])"
   ]
  },
  {
   "cell_type": "code",
   "execution_count": 37,
   "id": "deccdf26",
   "metadata": {},
   "outputs": [
    {
     "name": "stdout",
     "output_type": "stream",
     "text": [
      "78.6 µs ± 1.97 µs per loop (mean ± std. dev. of 7 runs, 10,000 loops each)\n"
     ]
    }
   ],
   "source": [
    "%timeit res = 2*numpy_arr"
   ]
  },
  {
   "cell_type": "code",
   "execution_count": 38,
   "id": "6216200b",
   "metadata": {},
   "outputs": [
    {
     "name": "stdout",
     "output_type": "stream",
     "text": [
      "9.72 ms ± 1.17 ms per loop (mean ± std. dev. of 7 runs, 100 loops each)\n"
     ]
    }
   ],
   "source": [
    "%timeit res = [2* i for i in list_arr]"
   ]
  },
  {
   "cell_type": "markdown",
   "id": "0ca51f71",
   "metadata": {},
   "source": [
    "Exercise 3"
   ]
  },
  {
   "cell_type": "code",
   "execution_count": 15,
   "id": "72d4a6cc",
   "metadata": {},
   "outputs": [
    {
     "name": "stdout",
     "output_type": "stream",
     "text": [
      "[0 1 2 3 4 5 6 7 8 9]\n",
      "[ 0  1  2  3 25 25 25  7  8  9]\n",
      "[-1 25 25]\n",
      "[ 0  1  2  3 -1 25 25  7  8  9]\n"
     ]
    }
   ],
   "source": [
    "my_arr = np.arange(10)\n",
    "print(my_arr)\n",
    "my_arr[4:7] = 25\n",
    "print(my_arr)\n",
    "arr_slice = my_arr[4:7]\n",
    "\n",
    "# Change the first element of arr_slice to -1\n",
    "arr_slice[0]= -1\n",
    "    \n",
    "print(arr_slice)\n",
    "print(my_arr)"
   ]
  },
  {
   "cell_type": "markdown",
   "id": "97cf896d",
   "metadata": {},
   "source": [
    "the modified arr_slice also modifies the original array my_arr. This is because arr_slice is a view or a reference to the original array, not a copy. Therefore, any modifications made to arr_slice will also affect my_arr.\n",
    "\n",
    "If want to reassign arr_slice with a new value without modifying my_arr, create a copy of the sliced array using the copy method.By using the copy() method, you create a new independent array that you can modify without affecting the original my_arr."
   ]
  },
  {
   "cell_type": "code",
   "execution_count": 19,
   "id": "8f9a36cf",
   "metadata": {},
   "outputs": [
    {
     "name": "stdout",
     "output_type": "stream",
     "text": [
      "[0 1 2 3 4 5 6 7 8 9]\n",
      "[ 0  1  2  3 25 25 25  7  8  9]\n",
      "[-1 25 25]\n",
      "[ 0  1  2  3 25 25 25  7  8  9]\n"
     ]
    }
   ],
   "source": [
    "my_arr = np.arange(10)\n",
    "print(my_arr)\n",
    "my_arr[4:7] = 25\n",
    "print(my_arr)\n",
    "\n",
    "arr_slice = my_arr[4:7].copy()\n",
    "\n",
    "# Change the first element of arr_slice to -1\n",
    "arr_slice[0]= -1\n",
    "    \n",
    "print(arr_slice)\n",
    "print(my_arr)"
   ]
  },
  {
   "cell_type": "markdown",
   "id": "5245f0dd",
   "metadata": {},
   "source": [
    "Exercise 4"
   ]
  },
  {
   "cell_type": "code",
   "execution_count": 26,
   "id": "619556c8",
   "metadata": {},
   "outputs": [
    {
     "data": {
      "image/png": "[encoded data removed]",
      "text/plain": [
       "<Figure size 640x480 with 1 Axes>"
      ]
     },
     "metadata": {},
     "output_type": "display_data"
    }
   ],
   "source": [
    "import numpy as np\n",
    "import matplotlib.pyplot as plt\n",
    "\n",
    "gray = np.zeros((200, 200), dtype=\"uint8\")\n",
    "\n",
    "center_x = 200 // 2\n",
    "center_y = 200 // 2\n",
    "\n",
    "radius = min(200, 200) // 4\n",
    "\n",
    "y_coords, x_coords = np.ogrid[:200, :200]\n",
    "\n",
    "circle = (x_coords - center_x) ** 2 + (y_coords - center_y) ** 2 <= radius ** 2\n",
    "\n",
    "gray[circle] = 255\n",
    "\n",
    "plt.imshow(gray, cmap='gray')\n",
    "plt.title(\"White circle\")\n",
    "plt.axis('off')\n",
    "plt.show()"
   ]
  },
  {
   "cell_type": "code",
   "execution_count": null,
   "id": "07efa6b7",
   "metadata": {},
   "outputs": [],
   "source": []
  }
 ],
 "metadata": {
  "kernelspec": {
   "display_name": "Python 3 (ipykernel)",
   "language": "python",
   "name": "python3"
  },
  "language_info": {
   "codemirror_mode": {
    "name": "ipython",
    "version": 3
   },
   "file_extension": ".py",
   "mimetype": "text/x-python",
   "name": "python",
   "nbconvert_exporter": "python",
   "pygments_lexer": "ipython3",
   "version": "3.10.9"
  }
 },
 "nbformat": 4,
 "nbformat_minor": 5
}
