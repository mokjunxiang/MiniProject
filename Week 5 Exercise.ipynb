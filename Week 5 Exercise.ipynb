{
 "cells": [
  {
   "cell_type": "code",
   "execution_count": null,
   "id": "0ab43d8f",
   "metadata": {},
   "outputs": [],
   "source": [
    "import sys\n",
    "# assert Python 3.7 or later is required\n",
    "assert sys.version_info >= (3, 7)\n",
    "\n",
    "import numpy as np\n",
    "import cv2 as cv\n",
    "from util_func import *\n",
    "\n",
    "# Make sure that optimization is enabled\n",
    "if not cv.useOptimized():\n",
    "    cv.setUseOptimized(True)\n",
    "    \n",
    "cv.useOptimized()"
   ]
  },
  {
   "cell_type": "markdown",
   "id": "0d0bbac4",
   "metadata": {},
   "source": [
    "Exercise 1"
   ]
  },
  {
   "cell_type": "code",
   "execution_count": null,
   "id": "5e011a12",
   "metadata": {},
   "outputs": [],
   "source": [
    "img = cv.imread(\"images/lena.jfif\")\n",
    "\n",
    "rows, cols = img.shape[:2]\n",
    "center = (cols/2, rows/2)\n",
    "\n",
    "M = cv.getRotationMatrix2D((cols // 2, rows // 2), 45, 1)\n",
    "\n",
    "abs_cos = abs(M[0,0]) \n",
    "abs_sin = abs(M[0,1])\n",
    "\n",
    "bound_w = int(rows * abs_sin + cols * abs_cos)\n",
    "bound_h = int(rows * abs_cos + cols * abs_sin)\n",
    "\n",
    "M[0, 2] += bound_w/2 - center[0]\n",
    "M[1, 2] += bound_h/2 - center[1]\n",
    "    \n",
    "dst = cv.warpAffine(img, M, (bound_w, bound_h))\n",
    "\n",
    "cv.imshow(\"rotated 45° image\", dst)\n",
    "cv.waitKey(0)"
   ]
  },
  {
   "cell_type": "markdown",
   "id": "9807d028",
   "metadata": {},
   "source": [
    "Exercise 2"
   ]
  },
  {
   "cell_type": "code",
   "execution_count": null,
   "id": "1b2581bc",
   "metadata": {},
   "outputs": [],
   "source": [
    "img = cv.imread(\"images/native-bee.png\")\n",
    "img2 = cv.imread(\"images/flower.jfif\")\n",
    "\n",
    "rows, cols = img2.shape[:2]\n",
    "roi = img[:rows, :cols]\n",
    "\n",
    "img2_gray = cv.cvtColor(img2, cv.COLOR_BGR2GRAY)\n",
    "\n",
    "ret, mask = cv.threshold(img2_gray, 70, 255, cv.THRESH_BINARY)\n",
    "\n",
    "mask_inv = cv.bitwise_not(mask)\n",
    "\n",
    "\n",
    "img1_bg = cv.bitwise_and(roi, roi, mask=mask_inv)\n",
    "\n",
    "img2_fg = cv.bitwise_and(img2, img2, mask=mask)\n",
    "\n",
    "dst = cv.add(img1_bg, img2_fg)\n",
    "img[:rows, :cols] = dst\n",
    "\n",
    "cv.imshow(\"res\", img)\n",
    "cv.waitKey(0)\n",
    "cv.destroyAllWindows()"
   ]
  },
  {
   "cell_type": "markdown",
   "id": "f00ea722",
   "metadata": {},
   "source": [
    "Exercise 3"
   ]
  },
  {
   "cell_type": "code",
   "execution_count": null,
   "id": "ce174488",
   "metadata": {},
   "outputs": [],
   "source": [
    "img = cv.imread(\"images/native-bee.png\")\n",
    "\n",
    "kernel_size3 = np.array([[0, -1, 0], [-1, 5, -1], [0, -1, 0]])\n",
    "\n",
    "kernel_size5 = np.ones((5, 5)) * -1\n",
    "kernel_size5[2, 2] = 25\n",
    "\n",
    "img2 = cv.filter2D(img, -1, kernel_size3)\n",
    "img3 = cv.filter2D(img, -1, kernel_size5)\n",
    "\n",
    "cv.imshow(\"3x3 kernel\", img2)\n",
    "cv.imshow(\"5x5 kernel\", img3)"
   ]
  },
  {
   "cell_type": "markdown",
   "id": "b0fe945f",
   "metadata": {},
   "source": [
    "Sharpening kernel of aperture size 5 produce more sharpening effect compare to kernel of aperture size 3 due to bigger size of kernel."
   ]
  },
  {
   "cell_type": "markdown",
   "id": "c18355a1",
   "metadata": {},
   "source": [
    "Exercise 4"
   ]
  },
  {
   "cell_type": "code",
   "execution_count": null,
   "id": "ab939d97",
   "metadata": {},
   "outputs": [],
   "source": [
    "img = cv.imread(\"images/noise_lena.jpg\")\n",
    "\n",
    "#Average filter \n",
    "img_blur = cv.blur(img, ksize)\n",
    "\n",
    "#Gaussian kernel\n",
    "img_gaussian = cv.GaussianBlur(img, ksize, 0)\n",
    "\n",
    "#Median filter\n",
    "img_median = cv.medianBlur(img, ksize[0])\n",
    "\n",
    "\n",
    "cv.imshow(\"original\", img)\n",
    "cv.imshow(\"Average filter\", img_blur)\n",
    "cv.imshow(\"Gaussian filter\", img_gaussian)\n",
    "cv.imshow(\"Median filter\", img_median)"
   ]
  },
  {
   "cell_type": "markdown",
   "id": "07271b4b",
   "metadata": {},
   "source": [
    "Average filter reduces noise and smoothens the image but it only good for reducing high-frequency noise.\n",
    "\n",
    "Gaussian filter reduces noise and provides better smoothing compared to the average filter and it suitable for reducing both high and low-frequency noise.\n",
    "    \n",
    "Median filter very effective in removing impulse noise (salt-and-pepper noise) without blurring the image significantly.\n",
    "\n",
    "Deduce the noise:\n",
    "Median filter can remove the noise completely whileas Gaussian filter and Median filter only reduces the noise.\n",
    "The noise in the image is salt and pepper noise."
   ]
  },
  {
   "cell_type": "code",
   "execution_count": null,
   "id": "b908a6ef",
   "metadata": {},
   "outputs": [],
   "source": []
  }
 ],
 "metadata": {
  "kernelspec": {
   "display_name": "Python 3 (ipykernel)",
   "language": "python",
   "name": "python3"
  },
  "language_info": {
   "codemirror_mode": {
    "name": "ipython",
    "version": 3
   },
   "file_extension": ".py",
   "mimetype": "text/x-python",
   "name": "python",
   "nbconvert_exporter": "python",
   "pygments_lexer": "ipython3",
   "version": "3.10.9"
  }
 },
 "nbformat": 4,
 "nbformat_minor": 5
}
