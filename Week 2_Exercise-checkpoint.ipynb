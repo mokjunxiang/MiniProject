{
 "cells": [
  {
   "cell_type": "markdown",
   "id": "c4b701e5",
   "metadata": {},
   "source": [
    "**Exercise**"
   ]
  },
  {
   "cell_type": "code",
   "execution_count": 18,
   "id": "3be4f8c1",
   "metadata": {},
   "outputs": [],
   "source": [
    "import numpy as np"
   ]
  },
  {
   "cell_type": "code",
   "execution_count": 19,
   "id": "59048247",
   "metadata": {},
   "outputs": [],
   "source": [
    "#Question 1\n",
    "def OddEven(x):\n",
    "    if x%2 != 0:\n",
    "        print (f\"{x} is an odd number\")\n",
    "    else:\n",
    "        print(f\"{x} is an even number\")"
   ]
  },
  {
   "cell_type": "code",
   "execution_count": 20,
   "id": "df7df19f",
   "metadata": {},
   "outputs": [
    {
     "name": "stdout",
     "output_type": "stream",
     "text": [
      "8 is an even number\n"
     ]
    }
   ],
   "source": [
    "OddEven(8)"
   ]
  },
  {
   "cell_type": "code",
   "execution_count": 21,
   "id": "25626941",
   "metadata": {},
   "outputs": [
    {
     "name": "stdout",
     "output_type": "stream",
     "text": [
      "9 is an odd number\n"
     ]
    }
   ],
   "source": [
    "OddEven(9)"
   ]
  },
  {
   "cell_type": "code",
   "execution_count": 22,
   "id": "ec6d40fb",
   "metadata": {},
   "outputs": [],
   "source": [
    "def OddEven(x):\n",
    "    #This function is to distinguish odd and even number.\n",
    "    #x must be interger\n",
    "    if isinstance(x, int):\n",
    "        if x%2 == 0:\n",
    "            if x == 0:\n",
    "                statement = \" is neither even or odd\"\n",
    "            else:\n",
    "                statement = \" is even number\"\n",
    "        else:\n",
    "            statement = \" is odd number\"\n",
    "    else:\n",
    "        statement = \" is not an integer\"\n",
    "        \n",
    "    return print(f\"{x}\" + statement)"
   ]
  },
  {
   "cell_type": "code",
   "execution_count": 23,
   "id": "6374ab77",
   "metadata": {},
   "outputs": [
    {
     "name": "stdout",
     "output_type": "stream",
     "text": [
      "0 is neither even or odd\n"
     ]
    }
   ],
   "source": [
    "OddEven(0)"
   ]
  },
  {
   "cell_type": "code",
   "execution_count": 24,
   "id": "23aa8074",
   "metadata": {},
   "outputs": [
    {
     "name": "stdout",
     "output_type": "stream",
     "text": [
      "9.7 is not an integer\n"
     ]
    }
   ],
   "source": [
    "OddEven(9.7)"
   ]
  },
  {
   "cell_type": "code",
   "execution_count": 25,
   "id": "a79509d8",
   "metadata": {},
   "outputs": [
    {
     "name": "stdout",
     "output_type": "stream",
     "text": [
      "8 is even number\n"
     ]
    }
   ],
   "source": [
    "OddEven(8)"
   ]
  },
  {
   "cell_type": "code",
   "execution_count": 26,
   "id": "0e99c9ec",
   "metadata": {},
   "outputs": [],
   "source": [
    "#Question 2\n",
    "large_n = 1e5\n",
    "numpy_arr = np.arange(large_n)\n",
    "list_arr = list(range(int(large_n)))"
   ]
  },
  {
   "cell_type": "code",
   "execution_count": 27,
   "id": "988e363c",
   "metadata": {},
   "outputs": [
    {
     "name": "stdout",
     "output_type": "stream",
     "text": [
      "[0.0000e+00 1.0000e+00 2.0000e+00 ... 9.9992e+04 9.9993e+04 9.9994e+04]\n",
      "[0, 1, 2, 3, 4]\n"
     ]
    }
   ],
   "source": [
    "print(numpy_arr[:-5])\n",
    "print(list_arr[:5])"
   ]
  },
  {
   "cell_type": "code",
   "execution_count": 28,
   "id": "0058acc8",
   "metadata": {},
   "outputs": [
    {
     "name": "stdout",
     "output_type": "stream",
     "text": [
      "[99995. 99996. 99997. 99998. 99999.]\n",
      "[99995, 99996, 99997, 99998, 99999]\n"
     ]
    }
   ],
   "source": [
    "print(numpy_arr[-5:])\n",
    "print(list_arr[-5:])"
   ]
  },
  {
   "cell_type": "code",
   "execution_count": 30,
   "id": "88dc4eb4",
   "metadata": {},
   "outputs": [
    {
     "name": "stdout",
     "output_type": "stream",
     "text": [
      "36.1 µs ± 1.21 µs per loop (mean ± std. dev. of 7 runs, 10,000 loops each)\n"
     ]
    }
   ],
   "source": [
    "%timeit res = 2*numpy_arr"
   ]
  },
  {
   "cell_type": "code",
   "execution_count": 33,
   "id": "6d4414b8",
   "metadata": {},
   "outputs": [
    {
     "name": "stdout",
     "output_type": "stream",
     "text": [
      "3.85 ms ± 114 µs per loop (mean ± std. dev. of 7 runs, 100 loops each)\n"
     ]
    }
   ],
   "source": [
    "%timeit res = [2* i for i in list_arr]"
   ]
  },
  {
   "cell_type": "code",
   "execution_count": 35,
   "id": "c8ddfd69",
   "metadata": {},
   "outputs": [
    {
     "name": "stdout",
     "output_type": "stream",
     "text": [
      "[0 1 2 3 4 5 6 7 8 9]\n",
      "[ 0  1  2  3 25 25 25  7  8  9]\n",
      "[-1 25 25]\n",
      "[ 0  1  2  3 25 25 25  7  8  9]\n"
     ]
    }
   ],
   "source": [
    "#Question 3\n",
    "my_arr = np.arange(10)\n",
    "print(my_arr)  #[0 1 2 3 4 5 6 7 8 9]\n",
    "    \n",
    "my_arr[4:7] = 25\n",
    "print(my_arr)  #[ 0  1  2  3 25 25 25  7  8  9]\n",
    "\n",
    "arr_slice = my_arr[4:7].copy()\n",
    "# Change the first element of arr_slice to -1\n",
    "arr_slice[0]= -1\n",
    "\n",
    "print(arr_slice)  #[-1 25 25]\n",
    "print(my_arr)  #[ 0  1  2  3 25 25 25  7  8  9]"
   ]
  },
  {
   "cell_type": "code",
   "execution_count": 38,
   "id": "a2cd1bac",
   "metadata": {},
   "outputs": [
    {
     "data": {
      "image/png": "[encoded data removed]",
      "text/plain": [
       "<Figure size 432x288 with 1 Axes>"
      ]
     },
     "metadata": {
      "needs_background": "light"
     },
     "output_type": "display_data"
    }
   ],
   "source": [
    "#Question 4\n",
    "import matplotlib.pyplot as plt\n",
    "\n",
    "image_width = 150 \n",
    "image_height = 150\n",
    "\n",
    "image = np.zeros((image_height, image_width))\n",
    "\n",
    "#set center coordinates of circular spot\n",
    "center_x = image_width //2\n",
    "center_y = image_height //2\n",
    "\n",
    "#set radius circular spot\n",
    "radius = min(image_width, image_height) //4\n",
    "\n",
    "white_intensity = 255\n",
    "\n",
    "#draw white circular spot in the middle\n",
    "for i in range(image_height):\n",
    "    for j in range(image_width):\n",
    "        if(j - center_x) **2 + (i - center_y) **2 <= radius **2:\n",
    "            image[i,j] = white_intensity\n",
    "            \n",
    "plt.imshow(image, cmap='gray')\n",
    "plt.axis('off')\n",
    "plt.show()"
   ]
  },
  {
   "cell_type": "code",
   "execution_count": null,
   "id": "0de07419",
   "metadata": {},
   "outputs": [],
   "source": []
  }
 ],
 "metadata": {
  "kernelspec": {
   "display_name": "Python 3 (ipykernel)",
   "language": "python",
   "name": "python3"
  },
  "language_info": {
   "codemirror_mode": {
    "name": "ipython",
    "version": 3
   },
   "file_extension": ".py",
   "mimetype": "text/x-python",
   "name": "python",
   "nbconvert_exporter": "python",
   "pygments_lexer": "ipython3",
   "version": "3.10.9"
  }
 },
 "nbformat": 4,
 "nbformat_minor": 5
}
