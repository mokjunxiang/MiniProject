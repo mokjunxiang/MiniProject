{
 "cells": [
  {
   "cell_type": "code",
   "execution_count": null,
   "id": "a90ffe22",
   "metadata": {},
   "outputs": [],
   "source": [
    "import sys\n",
    "# assert Python 3.7 or later is required\n",
    "assert sys.version_info >= (3, 7)\n",
    "\n",
    "import numpy as np\n",
    "import cv2 as cv\n",
    "from util_func import *\n",
    "\n",
    "# Make sure that optimization is enabled\n",
    "if not cv.useOptimized():\n",
    "    cv.setUseOptimized(True)\n",
    "    \n",
    "cv.useOptimized()"
   ]
  },
  {
   "cell_type": "markdown",
   "id": "bbe7961a",
   "metadata": {},
   "source": [
    "Exercise 1"
   ]
  },
  {
   "cell_type": "code",
   "execution_count": null,
   "id": "0bb115ba",
   "metadata": {},
   "outputs": [],
   "source": [
    "img = cv.imread(\"images/boat.jpg\", 0)\n",
    "\n",
    "_, mask = cv.threshold(img, 0, 255, cv.THRESH_BINARY_INV |cv.THRESH_OTSU)[1]\n",
    "\n",
    "contours, _ = cv.findContours(mask, cv.RETR_EXTERNAL, cv.CHAIN_APPROX_SIMPLE)\n",
    "\n",
    "for contour in contours:\n",
    "    x, y, w, h = cv.boundingRect(contour)\n",
    "    cv.rectangle(img, (x, y), (x + w, y + h), (255, 0, 0), 1)\n",
    "    \n",
    "show_img(\"Boat\", img)"
   ]
  },
  {
   "cell_type": "markdown",
   "id": "8b2fc29a",
   "metadata": {},
   "source": [
    "Exercise 2"
   ]
  },
  {
   "cell_type": "raw",
   "id": "7777182f",
   "metadata": {},
   "source": [
    "img = cv.imread(\"images/leaf.jfif\", 0)\n",
    "\n",
    "_, mask = cv.threshold(img, 0, 255, cv.THRESH_OTSU)\n",
    "\n",
    "def trackbar(x):\n",
    "    pass\n",
    "\n",
    "wd = \"window\"\n",
    "cv.namedWindow(wd)\n",
    "cv.createTrackbar(\"width\", wd, 2, 10, trackbar)\n",
    "cv.createTrackbar(\"height\", wd, 2, 10, trackbar)\n",
    "\n",
    "while True:\n",
    "    height = cv.getTrackbarPos(\"height\", wd)\n",
    "    if height < 2:\n",
    "        height = 2\n",
    "        \n",
    "    width = cv.getTrackbarPos(\"width\", wd)\n",
    "    if width < 2:\n",
    "        width = 2\n",
    "        \n",
    "kernel = np.ones((height, width), dtype=np.uint8)\n",
    "res = cv.morphologyEx(mask, cv.MORPH_CLOSE, kernel)\n",
    "    \n",
    "cv.imshow(wd, res)\n",
    "k = cv.waitKey(1)\n",
    "if k == 27:\n",
    "   break\n",
    "        \n",
    "cv.destroyAllWindows()"
   ]
  },
  {
   "cell_type": "markdown",
   "id": "25df19a4",
   "metadata": {},
   "source": [
    "Exercise 3"
   ]
  },
  {
   "cell_type": "code",
   "execution_count": null,
   "id": "2dccae89",
   "metadata": {},
   "outputs": [],
   "source": [
    "blue_low = (85, 90, 0)\n",
    "blue_high = (125, 255, 160)\n",
    "\n",
    "def color_seg(img,color_low, color_high, smooth=True):\n",
    "    \"\"\"Args:\n",
    "    img = source image(RGB)\n",
    "    color_low, color_high = HSV color tuples\n",
    "    smooth=Boolean(default:True)\n",
    "    \"\"\"\n",
    "    if smooth:\n",
    "        img = cv.GaussianBlur(img,(5,5), 0)\n",
    "        \n",
    "    #HSV\n",
    "    img_hsv=cv.cvtColor(img, cv.COLOR_RGB2HSV)\n",
    "    \n",
    "    #inRange\n",
    "    mask = cv.inRange(img_hsv,color_low,color_high)\n",
    "    \n",
    "    #morphological operations\n",
    "    mask = cv.erode(mask,None, iterations=2)\n",
    "    mask = cv.dilate(mask,None, iterations=2)\n",
    "    \n",
    "    return cv.bitwise_and(img_ori, img_ori, mask=mask)\n",
    "\n",
    "\n",
    "imgs = []\n",
    "for i in range(1,6): #1-5\n",
    "    img = cv.imread(cv.samples.findFile(f\"images/color_space/porcelain{i}.jfif\"))\n",
    "    img = cv.cvtColor(img, cv.COLOR_BGR2RGB)\n",
    "    imgs.appends(img)\n",
    "\n",
    "res = [color_seg(img,color_low, color_high) for img in imgs]\n",
    "\n",
    "fig, ax = plt.subplots(5, 2, figsize=(10, 15))\n",
    "\n",
    "for i in range(5):\n",
    "    ax[i][0].imshow(imgs[i])\n",
    "    ax[i][0].axis(\"off\")\n",
    "    ax[i][1].imshow(res[i])\n",
    "    ax[i][1].axis(\"off\")\n",
    "    \n",
    "plt.suptitle(\"Images and Segmentation\")\n",
    "plt.tight_layout()\n",
    "plt.show()"
   ]
  }
 ],
 "metadata": {
  "kernelspec": {
   "display_name": "Python 3 (ipykernel)",
   "language": "python",
   "name": "python3"
  },
  "language_info": {
   "codemirror_mode": {
    "name": "ipython",
    "version": 3
   },
   "file_extension": ".py",
   "mimetype": "text/x-python",
   "name": "python",
   "nbconvert_exporter": "python",
   "pygments_lexer": "ipython3",
   "version": "3.10.9"
  }
 },
 "nbformat": 4,
 "nbformat_minor": 5
}
