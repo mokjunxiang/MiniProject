{
 "cells": [
  {
   "cell_type": "code",
   "execution_count": null,
   "id": "a6c6fada",
   "metadata": {},
   "outputs": [],
   "source": [
    "import sys\n",
    "# assert Python 3.7 or later is required\n",
    "assert sys.version_info >= (3, 7)\n",
    "\n",
    "import numpy as np\n",
    "import cv2 as cv\n",
    "from util_func import *\n",
    "\n",
    "# Make sure that optimization is enabled\n",
    "if not cv.useOptimized():\n",
    "    cv.setUseOptimized(True)\n",
    "    \n",
    "cv.useOptimized()"
   ]
  },
  {
   "cell_type": "markdown",
   "id": "9afc36ac",
   "metadata": {},
   "source": [
    "Exercise 1"
   ]
  },
  {
   "cell_type": "code",
   "execution_count": null,
   "id": "297b5ed6",
   "metadata": {},
   "outputs": [],
   "source": [
    "img = cv.imread(\"images/pineapple.jfif\", 0)\n",
    "\n",
    "#aperture size    \n",
    "size = 3\n",
    "\n",
    "#kernel\n",
    "kernel_x = np.array([[-1,0,1],[-1,0,1],[-1,0,1]])\n",
    "kernel_y = np.array([[1,1,1],[0,0,0],[-1,-1,-1]])\n",
    "\n",
    "# Sobel\n",
    "sobel_x = cv.Sobel(img, cv.CV_32F, 1, 0, ksize=size)\n",
    "sobel_x = cv.convertScaleAbs(sobel_x)\n",
    "\n",
    "sobel_y = cv.Sobel(img, cv.CV_32F, 0, 1, ksize=size)\n",
    "sobel_y = cv.convertScaleAbs(sobel_y)\n",
    "\n",
    "# Laplacian\n",
    "laplacian = cv.Laplacian(img, cv.CV_32F, ksize=size)\n",
    "\n",
    "# Prewitt\n",
    "prewitt_x = cv.filter2D(img, -1, kernel_x)\n",
    "prewitt_y = cv.filter2D(img, -1, kernel_y)\n",
    "\n",
    "# Scharr\n",
    "scharr_x = cv.Scharr(img, cv.CV_32F, 1, 0)\n",
    "scharr_y = cv.Scharr(img, cv.CV_32F, 0, 1)\n",
    "\n",
    "# Canny\n",
    "canny = cv.Canny(img, 100, 200, apertureSize=size)\n",
    "\n",
    "cv.imshow('Original', img)\n",
    "cv.imshow('Sobel X', sobel_x)\n",
    "cv.imshow('Sobel Y', sobel_y)\n",
    "cv.imshow('Laplacian', laplacian)\n",
    "cv.imshow('Prewitt X', prewitt_x)\n",
    "cv.imshow('Prewitt Y', prewitt_y)\n",
    "cv.imshow('Scharr X', scharr_x)\n",
    "cv.imshow('Scharr Y', scharr_y)\n",
    "show_img('Canny', canny)"
   ]
  },
  {
   "cell_type": "markdown",
   "id": "ab25e211",
   "metadata": {},
   "source": [
    "Sobel X and Y: Vertical and horizontal edges which contains high gradient are emphasized. Pineapple edges is not clearly shown due to the backgorund of land also high in gradient.\n",
    "\n",
    "Laplacian: Edges with high intensity changes are emphasized. Messy edges formed.\n",
    "\n",
    "Prewitt X and Y: Most noises are excluded in Sobel X and Y. Vertical and horizontal edges are highlighted.\n",
    "\n",
    "Scharr X and Y: Similar with Sobel X  and Y but have more accurate edges.\n",
    "\n",
    "Canny: Thin, fine edges formed. Remove noises"
   ]
  },
  {
   "cell_type": "markdown",
   "id": "60794d9d",
   "metadata": {},
   "source": [
    "Exercise 2"
   ]
  },
  {
   "cell_type": "code",
   "execution_count": null,
   "id": "a898f5f4",
   "metadata": {},
   "outputs": [],
   "source": [
    "img = cv.imread(\"images/electronic.jfif\")\n",
    "blur = cv.GaussianBlur(img, (3, 3), 0)\n",
    "mask = cv.Canny(blur, 200, 300)\n",
    "\n",
    "contours = cv.findContours(mask, cv.RETR_EXTERNAL, cv.CHAIN_APPROX_SIMPLE)[0]\n",
    "\n",
    "min_perimeter = 400\n",
    "for contour in contours:\n",
    "    perimeter = cv.arcLength(contour, False)\n",
    "    if perimeter > min_perimeter:\n",
    "        x, y, w, h = cv.boundingRect(contour)\n",
    "        cv.rectangle(img, (x, y), (x + w, y + h), (255, 0, 0), 2)\n",
    "\n",
    "show_img(\"Detected Laptop\", img)"
   ]
  },
  {
   "cell_type": "markdown",
   "id": "a562b492",
   "metadata": {},
   "source": [
    "Exercise 3"
   ]
  },
  {
   "cell_type": "code",
   "execution_count": null,
   "id": "4244d068",
   "metadata": {},
   "outputs": [],
   "source": [
    "img = cv.imread(\"images/clock.jpg\")\n",
    "blur = cv.GaussianBlur(img, (5, 5), 0)\n",
    "mask = cv.Canny(blur, 200, 300)\n",
    "\n",
    "contours = cv.findContours(mask, cv.RETR_EXTERNAL, cv.CHAIN_APPROX_SIMPLE)[0]\n",
    "\n",
    "min_area = 200\n",
    "max_area = 600\n",
    "for contour in contours:\n",
    "    area = cv.arcLength(contour, True)\n",
    "    if area > min_area and area < max_area:\n",
    "        cv.drawContours(img, contour, -1, (0, 0, 255), 3)\n",
    "        \n",
    "show_img(\"Segmented Clock\", img)"
   ]
  }
 ],
 "metadata": {
  "kernelspec": {
   "display_name": "Python 3 (ipykernel)",
   "language": "python",
   "name": "python3"
  },
  "language_info": {
   "codemirror_mode": {
    "name": "ipython",
    "version": 3
   },
   "file_extension": ".py",
   "mimetype": "text/x-python",
   "name": "python",
   "nbconvert_exporter": "python",
   "pygments_lexer": "ipython3",
   "version": "3.10.9"
  }
 },
 "nbformat": 4,
 "nbformat_minor": 5
}
