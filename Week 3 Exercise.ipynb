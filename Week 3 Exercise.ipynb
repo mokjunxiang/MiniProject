{
 "cells": [
  {
   "cell_type": "markdown",
   "id": "3e4617b9",
   "metadata": {},
   "source": [
    "Exercise 1"
   ]
  },
  {
   "cell_type": "code",
   "execution_count": null,
   "id": "32de087d",
   "metadata": {},
   "outputs": [],
   "source": [
    "import sys\n",
    "# Python 3.7 is required\n",
    "assert sys.version_info >= (3, 7)\n",
    "\n",
    "import cv2 as cv\n",
    "import numpy as np\n",
    "\n",
    "# Make sure that OpenCV optimization is enabled\n",
    "if not cv.useOptimized():\n",
    "    cv.setUseOptimized(True)\n",
    "    \n",
    "cv.useOptimized()\n",
    "img = cv.imread('images/dog.jfif')\n",
    "\n",
    "cv.imshow(\"dog\", img)\n",
    "k = cv.waitKey(0) & 0xFF\n",
    "\n",
    "if k == ord('s'):    # User have to press 's'\n",
    "    cv.imwrite(\"dog_save.png\", img)\n",
    "\n",
    "cv.destroyAllWindows()"
   ]
  },
  {
   "cell_type": "markdown",
   "id": "219d3242",
   "metadata": {},
   "source": [
    "Exercise 2"
   ]
  },
  {
   "cell_type": "code",
   "execution_count": null,
   "id": "6e19e904",
   "metadata": {},
   "outputs": [],
   "source": [
    "# First method:call cv.imshow() twice\n",
    "img = cv.imshow(\"images/lena.jfif\")\n",
    "grayscale = cv.cvtColor(img, cv.COLOR_BGR2GRAY)\n",
    "cv.imshow(\"COLOR\",img)\n",
    "cv.imshow(\"GRAYSCALE\",grayscale)"
   ]
  },
  {
   "cell_type": "code",
   "execution_count": null,
   "id": "47f45137",
   "metadata": {},
   "outputs": [],
   "source": [
    "# Second method:use motplotlib module\n",
    "import matplotlib as plt\n",
    "\n",
    "img_rgb = cv.cvtColor(img, cv.COLOR_BGR2RGB)\n",
    "\n",
    "plt.subplot(121)    # 1: 1 row, 2: 2 column, 1: working on 1st plot\n",
    "plt.imshow(img_rgb)\n",
    "plt.xticks([]), plt.yticks([])\n",
    "plt.subplot(122)    # 1: 1 row, 2: 2 column, 2: working on 2nd plot\n",
    "plt.imshow(grayscale, cmap=plt.cm.gray)\n",
    "plt.xticks([]), plt.yticks([])\n",
    "plt.suptitle(\"color and grayscale\")\n",
    "plt.show()"
   ]
  },
  {
   "cell_type": "code",
   "execution_count": null,
   "id": "4523c343",
   "metadata": {},
   "outputs": [],
   "source": [
    "# Third method:use cv.imshow() or plt\n",
    "grayscale = cv.cvtColor(grayscale, cv.COLOR_GRAY2BGR)\n",
    "\n",
    "img_combined = np.hstack((img, grayscale))\n",
    "\n",
    "show_img(\"color vs grayscale\", img_combined)"
   ]
  },
  {
   "cell_type": "markdown",
   "id": "c9a9c0a3",
   "metadata": {},
   "source": [
    "Exercise 3"
   ]
  },
  {
   "cell_type": "code",
   "execution_count": null,
   "id": "c913b901",
   "metadata": {},
   "outputs": [],
   "source": [
    "cap = cv.VideoCapture(\"videos/img_pexels.mp4\")\n",
    "\n",
    "if not cap.isOpened():\n",
    "    sys.exit(\"Not Available\")\n",
    "\n",
    "fourcc = cv.VideoWriter_fourcc('M', 'J', 'P', 'G')\n",
    "w, h = int(cap.get(3) * 0.5), int(cap.get(4) * 0.5)\n",
    "\n",
    "out = cv.VideoWriter(\"img_pexels.avi\", fourcc, 20, (w, h))\n",
    "\n",
    "while cap.isOpened():\n",
    "    ret, frame = cap.read()\n",
    "    \n",
    "    if not ret:\n",
    "        print(\"No frame detected!\")\n",
    "        break\n",
    "        \n",
    "    frame_resize = cv.resize(frame, None, fx=0.5, fy=0.5)\n",
    "    out.write(frame_resize)\n",
    "    cv.imshow(\"resize video\", frame_resize)\n",
    "    \n",
    "    if cv.waitKey(1) == 27:\n",
    "        break\n",
    "\n",
    "cap.release()\n",
    "out.release()\n",
    "cv.destroyAllWindows()"
   ]
  },
  {
   "cell_type": "markdown",
   "id": "1f6b4630",
   "metadata": {},
   "source": [
    "Exercise 4"
   ]
  },
  {
   "cell_type": "code",
   "execution_count": null,
   "id": "8703164a",
   "metadata": {},
   "outputs": [],
   "source": [
    "img = cv.imread(\"images/dog.jfif\")\n",
    "\n",
    "    if img is None:\n",
    "        sys.exit(\"Not Available\")\n",
    "\n",
    "    img_resize = cv.resize(img, None, fx=1.5, fy=1.5, interpolation=interpolation)\n",
    "    \n",
    "    \n",
    "    cv.showimg(window_name, img_resize)"
   ]
  }
 ],
 "metadata": {
  "kernelspec": {
   "display_name": "Python 3 (ipykernel)",
   "language": "python",
   "name": "python3"
  },
  "language_info": {
   "codemirror_mode": {
    "name": "ipython",
    "version": 3
   },
   "file_extension": ".py",
   "mimetype": "text/x-python",
   "name": "python",
   "nbconvert_exporter": "python",
   "pygments_lexer": "ipython3",
   "version": "3.10.9"
  }
 },
 "nbformat": 4,
 "nbformat_minor": 5
}
