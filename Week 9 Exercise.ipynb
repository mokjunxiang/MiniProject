{
 "cells": [
  {
   "cell_type": "code",
   "execution_count": null,
   "id": "f4a0c633",
   "metadata": {},
   "outputs": [],
   "source": [
    "import sys\n",
    "# assert Python 3.7 or later is required\n",
    "assert sys.version_info >= (3, 7)\n",
    "\n",
    "import numpy as np\n",
    "import cv2 as cv\n",
    "from util_func import *\n",
    "\n",
    "# Make sure that optimization is enabled\n",
    "if not cv.useOptimized():\n",
    "    cv.setUseOptimized(True)\n",
    "    \n",
    "cv.useOptimized()"
   ]
  },
  {
   "cell_type": "markdown",
   "id": "ccf242d0",
   "metadata": {},
   "source": [
    "Exercise 1"
   ]
  },
  {
   "cell_type": "code",
   "execution_count": null,
   "id": "7deb9e73",
   "metadata": {},
   "outputs": [],
   "source": [
    "def k_means_clust(img, K, max_iter=10, eps=1.0, attempts=10, flag=cv.KMEANS_PP_CENTERS):\n",
    "    \"\"\"Args:\n",
    "    img: 3-channel color image\n",
    "    K: user defined number of kluster\n",
    "    By default, max_iter=10, eps=1, attempts=10, k-means++\"\"\"\n",
    "    \n",
    "    img = img.reshape((-1, 3))\n",
    "    img = np.float32(img)\n",
    "    criteria = (cv.TERM_CRITERIA_EPS | cv.TERM_CRITERIA_MAX_ITER, max_iter, eps)\n",
    "    \n",
    "    return cv.kmeans(img, K, None, criteria, attempts, flag)"
   ]
  },
  {
   "cell_type": "code",
   "execution_count": null,
   "id": "0acc875f",
   "metadata": {},
   "outputs": [],
   "source": [
    "img = cv.imread(\"images/zebra.jfif\")\n",
    "\n",
    "sum_square = []\n",
    "for k in range(2, 11):\n",
    "    ret, label, center = k_means_clust(img, k)\n",
    "    sum_square.append(ret)\n",
    "    \n",
    "plt.plot(range(2,11), sum_square, \"bo-\")\n",
    "plt.xlabel(\"Number Of Clusters, k\")\n",
    "plt.ylabel(\"Cluster Sum of Squares\")\n",
    "plt.show()"
   ]
  },
  {
   "cell_type": "code",
   "execution_count": null,
   "id": "315a4f53",
   "metadata": {},
   "outputs": [],
   "source": [
    "# 4 is chosen as optimal k\n",
    "k = 4\n",
    "\n",
    "plt.figure(figsize=(30, 30))\n",
    "\n",
    "# BGR \n",
    "img_bgr = img.copy()\n",
    "ret, label, center = k_means_clust(img_bgr, k)\n",
    "center = np.uint8(center)\n",
    "res = center[label.flatten()]\n",
    "image_bgr = res.reshape(img_bgr.shape)\n",
    "image_bgr = cv.cvtColor(image_bgr, cv.COLOR_BGR2RGB)\n",
    "\n",
    "# HSV \n",
    "img_hsv = cv.cvtColor(img, cv.COLOR_BGR2HSV)\n",
    "ret, label, center = k_means_clust(img_hsv, k)\n",
    "center = np.uint8(center)\n",
    "res = center[label.flatten()]\n",
    "image_hsv = res.reshape(img_hsv.shape)\n",
    "image_hsv = cv.cvtColor(image_hsv, cv.COLOR_HSV2RGB)\n",
    "\n",
    "# LAB \n",
    "img_lab = cv.cvtColor(img, cv.COLOR_BGR2Lab)\n",
    "ret, label, center = k_means_clust(img_lab, k)\n",
    "center = np.uint8(center)\n",
    "res = center[label.flatten()]\n",
    "image_lab = res.reshape(img_lab.shape)\n",
    "image_lab = cv.cvtColor(image_lab, cv.COLOR_Lab2RGB)\n",
    "\n",
    "plt.subplot(131), plt.title(\"BGR\")\n",
    "plt_img(image_bgr)\n",
    "\n",
    "plt.subplot(132), plt.title(\"HSV\")\n",
    "plt_img(image_hsv)\n",
    "\n",
    "plt.subplot(133), plt.title(\"LAB\")\n",
    "plt_img(image_lab)"
   ]
  },
  {
   "cell_type": "markdown",
   "id": "225a34fa",
   "metadata": {},
   "source": [
    "BGR: Zebra is unable to be segmented properly as the grasses are appear as noises around the zebra. \n",
    "HSV: Zebra is able to be segmented with little noises are appear at the background. \n",
    "LAB: Result is almost same as BGR but lesser noise around the zebra compared to BGR."
   ]
  }
 ],
 "metadata": {
  "kernelspec": {
   "display_name": "Python 3 (ipykernel)",
   "language": "python",
   "name": "python3"
  },
  "language_info": {
   "codemirror_mode": {
    "name": "ipython",
    "version": 3
   },
   "file_extension": ".py",
   "mimetype": "text/x-python",
   "name": "python",
   "nbconvert_exporter": "python",
   "pygments_lexer": "ipython3",
   "version": "3.10.9"
  }
 },
 "nbformat": 4,
 "nbformat_minor": 5
}
